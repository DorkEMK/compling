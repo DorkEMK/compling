{
 "cells": [
  {
   "cell_type": "markdown",
   "metadata": {},
   "source": [
    "### Краткое содержание:\n",
    "- Попробован алгоритм Леска с удалением стоп-слов из датасета и WordNet, без удаления стоп-слов, c ограничениями на окно контекста, с применением не только определений, но и примеров,с разделением по частям речи\n",
    "- Число определений для слова \"break\" в WordNet\n",
    "- Получилось определить с высокой степенью субъективного согласия с полученным вариантом 3 значения\n",
    "- Ещё 1-2 значения получается улучшать до состояния \"частично подходит\"\n",
    "- Причины неэффективного определения: высокая многозначность слова, широкая вариабельность контекстов употребления, короткие определения, короткие примеры, которых немного. Таким образом, максимальное пересечение слов контекста, в котором употреблено слово с разными определениями и примерами из WordNet недостаточно велико и не может являться хорошим дискриминативным признаком для определения значения."
   ]
  },
  {
   "cell_type": "code",
   "execution_count": 170,
   "metadata": {},
   "outputs": [
    {
     "name": "stderr",
     "output_type": "stream",
     "text": [
      "[nltk_data] Downloading package wordnet to /home/lisa/nltk_data...\n",
      "[nltk_data]   Package wordnet is already up-to-date!\n"
     ]
    },
    {
     "data": {
      "text/plain": [
       "True"
      ]
     },
     "execution_count": 170,
     "metadata": {},
     "output_type": "execute_result"
    }
   ],
   "source": [
    "import random\n",
    "from nltk.tokenize import word_tokenize\n",
    "from nltk.corpus import stopwords\n",
    "from nltk.corpus import wordnet as wn\n",
    "from nltk.wsd import lesk\n",
    "from string import punctuation\n",
    "morph = MorphAnalyzer()\n",
    "punct = punctuation+'«»—…“”*№–'\n",
    "stops = set(stopwords.words('english'))\n",
    "\n",
    "import nltk\n",
    "nltk.download('wordnet')"
   ]
  },
  {
   "cell_type": "code",
   "execution_count": 627,
   "metadata": {},
   "outputs": [],
   "source": [
    "def tokenize(text):\n",
    "    \n",
    "    words = [word.strip(punct) for word in text.lower().split() if word and word not in stops]\n",
    "    words = [word for word in words if word]\n",
    "\n",
    "    return words"
   ]
  },
  {
   "cell_type": "code",
   "execution_count": 174,
   "metadata": {},
   "outputs": [],
   "source": [
    "corpus = [line for line in open('corpus_eng.txt') if 'break' in tokenize(line)]"
   ]
  },
  {
   "cell_type": "code",
   "execution_count": 236,
   "metadata": {},
   "outputs": [],
   "source": [
    "sample_full = random.sample(corpus, 10)"
   ]
  },
  {
   "cell_type": "code",
   "execution_count": 623,
   "metadata": {},
   "outputs": [
    {
     "data": {
      "text/plain": [
       "['About 31,000 Tumblekins toys are being recalled by International Playthings as the toy can break into small pieces with sharp edges, posing a laceration hazard. More » ©Landscape Structures \\n',\n",
       " \"Black Magic - Halloween's the perfect excuse to break out the black vodka and an easy made-from-scratch soda drink awaits your ghoulish guests. Bring your summer shandy into autumn with this easy Pumpkin Shandy recipe. Photo Courtesy: © Cointreau • From the Pumpkin Patch \\n\",\n",
       " 'In the picture you can see the cross hatching. This is caused from the honing operation and helps the rings \"seat\" during the break in process. When the term \"seat\" is used, it means the ring is worn down slightly, allowing it to mate to the cylinder wall, and form a seal which holds compression in the cylinder/combustion chamber, as well as keeping oil out. A secondary purpose of boring the cylinder is to ensure it is completely round. To do this correctly, the shop should use a torque plate, which is attached to the deck during boring and final honing. This simulates the head being attached to the block during the process, so when the head is finally attached, all the little variances are accounted for and the cylinder is as close to round as can be made. \\n',\n",
       " 'An Indian Protest for Everyone By DAVID TREUER Photo Demonstrators near the Standing Rock reservation protesting the Dakota Access Pipeline. Credit Stephanie Keith/Reuters Every protest contains a contradiction: people stand up — through speech, demonstration, violent or nonviolent action — and urge the state to change. They break the rules in order to convince the rule-makers that they need to change the rules, which is itself a kind of state-approved process. However, at Standing Rock in North Dakota, Indians from all over North America have been protesting for seven months in some ways never before seen. Protest in this case is related to process. The Dakota Access Pipeline — a nearly 1,200-mile-long pipeline from the Bakken oil fields in northwestern North Dakota to Illinois — has been in the works for some time. Part of the process was for the United States Army Corps of Engineers, the agency that approved the pipeline, to consult with tribes about how the pipeline would affect their reservations and treaty lands, sacred sites and cultural areas. According to documents filed in federal court, the Corps did just that numerous times. In response, officials adjusted the pipeline route. The Standing Rock Sioux tribe chose not to fully engage with pipeline officials until late in the process. When it did, a tribal official declared that the tribe objected to “any kind of oil pipeline construction through our ancestral lands.” Here is where the tribe’s legal battle against the pipeline and the protest diverge. The Standing Rock Sioux sought an injunction on the basis of federal laws protecting the tribe’s interest in preserving sacred sites. The protest, called the Mni Wiconi, or “water is life,” demonstration, is primarily over the danger the pipeline poses to drinking water for everyone. Continue reading the main story The legal and ethical argument is about tribal sovereignty and the protection of natural resources. There is nothing new about such issues. However, what is novel is that the tribe and the outside protesters are working together. The Standing Rock reservation set up a protest camp and made a stand with the protesters. By September, more than 300 tribes — including my tribe, the Ojibwe — were physically represented at the protest camp, at the confluence of the Cannonball and Missouri Rivers. \\n',\n",
       " 'There will probably be 52 Republican senators in the new 115th Congress. Assuming the vice president would break any tie in favor of change, it would take 50 of those 52 to do away with the filibuster. \\n',\n",
       " \"Why are liberals so angry? Hillary broke right through that glass ceiling for being the 1st woman to run for president and LOSE? Follow Are you sure you want to delete this answer? Yes Sorry, something has gone wrong. Trending Now Hillary tried to break the glass ceiling, but the only crack she found was Trumps &ss pressed against it Jeffrey · 6 mins ago She wasn't the first woman to run for president. She was the first one to get a major party nomination Quit being such an ignorant asshat. Girl Puncher · 6 mins ago 0 · just now Report Abuse Hillary lost because of lies, voter suppression, caging and hacking by Republicans. Now let's see what the electoral college does next month. But even if you don't believe that . . . We have never had a president-elect before who: - threatened to jail his political opponent - proposed that we just drop our judicial process around extradition (cleric Fethullah Gulen) - threatened to keep a database to track all people of a particular religion - threatened to prevent all people of a particular religion from entering the country - threatened to tear families apart - threatened to build a nation-wide deportation force to throw millions out of the country - bragged about sexually assaulting women - lied in most of his statements - threatened to punish women for accessing abortion - threatened to reauthorize waterboarding and other forms of torture - threatened to change our nation’s libel laws and restrict freedom of expression - directed crowds of thousands to intimidate reporters and assault African Americans - proposed building a wall along one border of our country - threatened that unless he won the election he would not recognize the validity of the election - threatened to compel the military to commit war crimes - stopped the press from covering his meeting with the current president in the White House - blamed the press for protests If you don’t take that seriously, read the history of autocracies around the world and how they started. Read this article by a woman who has lived in autocracies most of her life. Autocracy: Rules for Survival Is it all just hyperbole? We hope so, but there’s no evidence to support that at this time. If we aren’t aware of the dangers we can more easily be taken over. If Donald Trump Implements His Proposed Policies, We'll See Him in Court\\n\",\n",
       " 'Hernandez led graduate and undergraduate students to Houston during Spring Break 2016 to conduct original reporting based on the Hell and High Water investigation. They developed new immersive storytelling techniques to illustrate portions of the investigation they felt were ideally suited for virtual reality.\\n',\n",
       " \"It's also the only country where fans break news. My Spanish is a little rusty, but I think that guy's caption says that Goodell told him the Patriots are playing in Mexico next year. I'm guessing it's the second phase of Goodell's Deflategate punishment. Hopefully that guy prints out his picture and mails it to Tom Brady. I think Tom would enjoy it. \\n\",\n",
       " 'Next Im married but still in love with my ex? Ten years ago my heart was broken by, what I call, the love of my life. We fell for each other very fast and very hard. And then just like it started, it ended and she moved back to her hometown, I was destroyed. We rarely speak or see each other if we do its at a social event in her city that we always attend and... show more Ten years ago my heart was broken by, what I call, the love of my life. We fell for each other very fast and very hard. And then just like it started, it ended and she moved back to her hometown, I was destroyed. We rarely speak or see each other if we do its at a social event in her city that we always attend and mostly just Hi or a head nod with many looks shared. Around 7 months after the break up I met the girl I eventually married, I love her dearly which leads me to my inner turmoil. I don\\'t go out of my way to think about my ex, it just happens. ALL of the time! Although we were only together 3yrs the relationship had such a profound and powerful effect on me, and that is not an over exaggeration in the slightest. Everything reminds me of her still and I feel like I\\'m doing some kind of hurtful thing to my wife, although I can\\'t help it. What concerns me is that the constant reminders and memories just make me happy. I love to think about her. She was the greatest time of my life, and the way things are looking it will never change. We haven\\'t talked in 10 years and she is now married, neither of us have kids, but lately I have considered reaching out to her but to see her and talk. Naturally I can\\'t talk to anyone about my little \"obsession\" about my ex.Is this something that I should seek to see her and get closure? It has been this way for 10 years, and shows no signs of stopping. Follow Are you sure you want to delete this answer? Yes Sorry, something has gone wrong. Trending Now\\n',\n",
       " '6. The chorus. Of course, if you remember \"Bizarre Love Triangle\" for one thing, it\\'s that wallop of a chorus, hopping up and down the octave: \"Every time I see you falling / I get down on my knees and pray.\" The quasi-religious wording gives it echoes of Al Green, and the melody is classic Motown, but the imagery of it is vague enough that it doesn\\'t break the song\\'s enigmatic spell with lyrical or musical cliché. The pacing of the phrasing is similarly inspired; alternately awestruck and rushed, never comfortable but always enthralled.\\n']"
      ]
     },
     "execution_count": 623,
     "metadata": {},
     "output_type": "execute_result"
    }
   ],
   "source": [
    "sample_full"
   ]
  },
  {
   "cell_type": "markdown",
   "metadata": {},
   "source": [
    "Lines в```sample``` слишком длинные, неудобно просматривать. Вырежем предложения со словом 'break'"
   ]
  },
  {
   "cell_type": "code",
   "execution_count": 238,
   "metadata": {},
   "outputs": [],
   "source": [
    "sample = []\n",
    "for line in sample_full:\n",
    "    sentences = line.split('.')\n",
    "    for s in sentences:\n",
    "        if 'break' in tokenize(s):\n",
    "            sample.append(s)"
   ]
  },
  {
   "cell_type": "code",
   "execution_count": 239,
   "metadata": {},
   "outputs": [
    {
     "data": {
      "text/plain": [
       "10"
      ]
     },
     "execution_count": 239,
     "metadata": {},
     "output_type": "execute_result"
    }
   ],
   "source": [
    "len(sample)"
   ]
  },
  {
   "cell_type": "code",
   "execution_count": 240,
   "metadata": {},
   "outputs": [
    {
     "data": {
      "text/plain": [
       "['About 31,000 Tumblekins toys are being recalled by International Playthings as the toy can break into small pieces with sharp edges, posing a laceration hazard',\n",
       " \"Black Magic - Halloween's the perfect excuse to break out the black vodka and an easy made-from-scratch soda drink awaits your ghoulish guests\",\n",
       " ' This is caused from the honing operation and helps the rings \"seat\" during the break in process',\n",
       " ' They break the rules in order to convince the rule-makers that they need to change the rules, which is itself a kind of state-approved process',\n",
       " ' Assuming the vice president would break any tie in favor of change, it would take 50 of those 52 to do away with the filibuster',\n",
       " \" Trending Now Hillary tried to break the glass ceiling, but the only crack she found was Trumps &ss pressed against it Jeffrey · 6 mins ago She wasn't the first woman to run for president\",\n",
       " 'Hernandez led graduate and undergraduate students to Houston during Spring Break 2016 to conduct original reporting based on the Hell and High Water investigation',\n",
       " \"It's also the only country where fans break news\",\n",
       " ' Around 7 months after the break up I met the girl I eventually married, I love her dearly which leads me to my inner turmoil',\n",
       " '\" The quasi-religious wording gives it echoes of Al Green, and the melody is classic Motown, but the imagery of it is vague enough that it doesn\\'t break the song\\'s enigmatic spell with lyrical or musical cliché']"
      ]
     },
     "execution_count": 240,
     "metadata": {},
     "output_type": "execute_result"
    }
   ],
   "source": [
    "sample"
   ]
  },
  {
   "cell_type": "code",
   "execution_count": 306,
   "metadata": {},
   "outputs": [],
   "source": [
    "sample_tok = [tokenize(line) for line in sample]"
   ]
  },
  {
   "cell_type": "markdown",
   "metadata": {},
   "source": [
    "### Алгоритм Леска c токенизацией и удалением стоп-слов"
   ]
  },
  {
   "cell_type": "code",
   "execution_count": 648,
   "metadata": {},
   "outputs": [],
   "source": [
    "def lesk_tokenize( word, sentence):\n",
    "\n",
    "    bestsense = 0\n",
    "    maxoverlap = 0\n",
    "    \n",
    "    for i, synset in enumerate(wn.synsets(word)):\n",
    "        definition = tokenize(synset.definition())\n",
    "        definition = set(definition)\n",
    "        sentence = set(sentence)\n",
    "        overlap = len(definition & sentence)\n",
    "        if overlap > maxoverlap:\n",
    "            maxoverlap = overlap\n",
    "            bestsense = i\n",
    "    \n",
    "    return bestsense"
   ]
  },
  {
   "cell_type": "code",
   "execution_count": 649,
   "metadata": {},
   "outputs": [],
   "source": [
    "i = 0\n",
    "definitions = []\n",
    "for line in sample_tok:\n",
    "    i = lesk_tokenize('break', line)\n",
    "    definitions.append(wn.synsets('break')[i].definition())"
   ]
  },
  {
   "cell_type": "code",
   "execution_count": 650,
   "metadata": {},
   "outputs": [
    {
     "name": "stdout",
     "output_type": "stream",
     "text": [
      "1\n",
      "About 31,000 Tumblekins toys are being recalled by International Playthings as the toy can break into small pieces with sharp edges, posing a laceration hazard\n",
      "---\n",
      "become separated into pieces or fragments\n",
      "2\n",
      "Black Magic - Halloween's the perfect excuse to break out the black vodka and an easy made-from-scratch soda drink awaits your ghoulish guests\n",
      "---\n",
      "break down, literally or metaphorically\n",
      "3\n",
      " This is caused from the honing operation and helps the rings \"seat\" during the break in process\n",
      "---\n",
      "break down, literally or metaphorically\n",
      "4\n",
      " They break the rules in order to convince the rule-makers that they need to change the rules, which is itself a kind of state-approved process\n",
      "---\n",
      "an abrupt change in the tone or register of the voice (as at puberty or due to emotion)\n",
      "5\n",
      " Assuming the vice president would break any tie in favor of change, it would take 50 of those 52 to do away with the filibuster\n",
      "---\n",
      "an abrupt change in the tone or register of the voice (as at puberty or due to emotion)\n",
      "6\n",
      " Trending Now Hillary tried to break the glass ceiling, but the only crack she found was Trumps &ss pressed against it Jeffrey · 6 mins ago She wasn't the first woman to run for president\n",
      "---\n",
      "become fractured; break or crack on the surface only\n",
      "7\n",
      "Hernandez led graduate and undergraduate students to Houston during Spring Break 2016 to conduct original reporting based on the Hell and High Water investigation\n",
      "---\n",
      "emerge from the surface of a body of water\n",
      "8\n",
      "It's also the only country where fans break news\n",
      "---\n",
      "break down, literally or metaphorically\n",
      "9\n",
      " Around 7 months after the break up I met the girl I eventually married, I love her dearly which leads me to my inner turmoil\n",
      "---\n",
      "break down, literally or metaphorically\n",
      "10\n",
      "\" The quasi-religious wording gives it echoes of Al Green, and the melody is classic Motown, but the imagery of it is vague enough that it doesn't break the song's enigmatic spell with lyrical or musical cliché\n",
      "---\n",
      "break down, literally or metaphorically\n"
     ]
    }
   ],
   "source": [
    "for i in range(10):\n",
    "    print(i+1, sample[i], '---', definitions[i], sep = '\\n')"
   ]
  },
  {
   "cell_type": "markdown",
   "metadata": {},
   "source": [
    "Подходит: 1 хорошо, 6, 10 - в метафорическом смысле.\n",
    "Может быть убирать стоп-слова не стоит, т.к. среди них есть предлоги из фразовых глаголов типа \"break up\"\n",
    "  \n",
    "Не подходят определения, не пересекающиеся со значениями, поскольку 'break' - очень многозначное слово(в WordNet 75 значений)  и контексты чрезвычайно разнообразны, а определения - коротки\n",
    "7 - Spring Break 2016, мероприятие, нет в определениях\n",
    "7,5,4 - \"зацепилось\" за глаголы, не относящиеся к break\n",
    "2, 3, 8, 9 - 'break' в определении\n",
    "\n",
    "Чтобы убрать бессмысленные пересечения, нужно брать контекст как несколько слов вокруг \"break\"\n",
    "Чтобы попробовать поймать фразовые глаголы, можно вернуть стоп-слова"
   ]
  },
  {
   "cell_type": "markdown",
   "metadata": {},
   "source": [
    "### Алгоритм Леска с ограниченным контекстом"
   ]
  },
  {
   "cell_type": "code",
   "execution_count": 639,
   "metadata": {},
   "outputs": [],
   "source": [
    "def get_words_in_context(word, words, window=3):\n",
    "    words_in_context = []\n",
    "    for i in range(len(words)):\n",
    "        left = words[max(0, i-window):i]\n",
    "        right = words[i+1:i+window+1]\n",
    "        target = words[i]\n",
    "        if target == word:\n",
    "            words_in_context = left+right\n",
    "    \n",
    "    return words_in_context"
   ]
  },
  {
   "cell_type": "code",
   "execution_count": 638,
   "metadata": {},
   "outputs": [
    {
     "data": {
      "text/plain": [
       "['international', 'playthings', 'toy', 'small', 'pieces', 'sharp']"
      ]
     },
     "execution_count": 638,
     "metadata": {},
     "output_type": "execute_result"
    }
   ],
   "source": [
    "get_words_in_context('break', sample_tok[0])"
   ]
  },
  {
   "cell_type": "code",
   "execution_count": 651,
   "metadata": {},
   "outputs": [],
   "source": [
    "i = 0\n",
    "definitions = []\n",
    "for line in sample_tok:\n",
    "    line = get_words_in_context('break', line)\n",
    "    i = lesk_tokenize('break', line)\n",
    "    definitions.append(wn.synsets('break')[i].definition())"
   ]
  },
  {
   "cell_type": "code",
   "execution_count": 652,
   "metadata": {},
   "outputs": [
    {
     "name": "stdout",
     "output_type": "stream",
     "text": [
      "1\n",
      "About 31,000 Tumblekins toys are being recalled by International Playthings as the toy can break into small pieces with sharp edges, posing a laceration hazard\n",
      "---\n",
      "become separated into pieces or fragments\n",
      "2\n",
      "Black Magic - Halloween's the perfect excuse to break out the black vodka and an easy made-from-scratch soda drink awaits your ghoulish guests\n",
      "---\n",
      "some abrupt occurrence that interrupts an ongoing activity\n",
      "3\n",
      " This is caused from the honing operation and helps the rings \"seat\" during the break in process\n",
      "---\n",
      "some abrupt occurrence that interrupts an ongoing activity\n",
      "4\n",
      " They break the rules in order to convince the rule-makers that they need to change the rules, which is itself a kind of state-approved process\n",
      "---\n",
      "act in disregard of laws, rules, contracts, or promises\n",
      "5\n",
      " Assuming the vice president would break any tie in favor of change, it would take 50 of those 52 to do away with the filibuster\n",
      "---\n",
      "an abrupt change in the tone or register of the voice (as at puberty or due to emotion)\n",
      "6\n",
      " Trending Now Hillary tried to break the glass ceiling, but the only crack she found was Trumps &ss pressed against it Jeffrey · 6 mins ago She wasn't the first woman to run for president\n",
      "---\n",
      "(geology) a crack in the earth's crust resulting from the displacement of one side with respect to the other\n",
      "7\n",
      "Hernandez led graduate and undergraduate students to Houston during Spring Break 2016 to conduct original reporting based on the Hell and High Water investigation\n",
      "---\n",
      "some abrupt occurrence that interrupts an ongoing activity\n",
      "8\n",
      "It's also the only country where fans break news\n",
      "---\n",
      "be released or become known; of news\n",
      "9\n",
      " Around 7 months after the break up I met the girl I eventually married, I love her dearly which leads me to my inner turmoil\n",
      "---\n",
      "some abrupt occurrence that interrupts an ongoing activity\n",
      "10\n",
      "\" The quasi-religious wording gives it echoes of Al Green, and the melody is classic Motown, but the imagery of it is vague enough that it doesn't break the song's enigmatic spell with lyrical or musical cliché\n",
      "---\n",
      "some abrupt occurrence that interrupts an ongoing activity\n"
     ]
    }
   ],
   "source": [
    "for i in range(10):\n",
    "    print(i+1, sample[i], '---', definitions[i], sep = '\\n')"
   ]
  },
  {
   "cell_type": "markdown",
   "metadata": {},
   "source": [
    "Стало интереснее!\n",
    "\n",
    "Подходят:\n",
    "1 - результат не изменился\n",
    "4, 8 - новое\n",
    "\n",
    "Не подходят:\n",
    "2 - кажется, тут довольно специфический контекст. Значение 'break out' не очень понятно, скорее всего что-то близкое к \"to make a surprise\", хотя чаще это что-то междуе \"to get out\" и \"to destroy\"\n",
    "5 - кажется, так всё равно зацепляем \"change\"\n",
    "3 - стало ближе\n",
    "6 - стало хуже\n",
    "7 - - Spring Break is a vacation period in early spring at universities and schools (wikipedia), результат \"some abrupt occurrence that interrupts an ongoing activity\" почти подходит:)\n",
    "9, 10 - ближе, чем было"
   ]
  },
  {
   "cell_type": "markdown",
   "metadata": {},
   "source": [
    "### Алгоритм Леска без удаления стоп-слов"
   ]
  },
  {
   "cell_type": "code",
   "execution_count": 654,
   "metadata": {},
   "outputs": [],
   "source": [
    "def tokenize_full(text):\n",
    "    words = [word.strip(punct) for word in text.lower().split() if word]\n",
    "    return words"
   ]
  },
  {
   "cell_type": "code",
   "execution_count": 656,
   "metadata": {},
   "outputs": [],
   "source": [
    "sample_tok_full = [tokenize_full(line) for line in sample]"
   ]
  },
  {
   "cell_type": "code",
   "execution_count": 655,
   "metadata": {},
   "outputs": [],
   "source": [
    "def lesk_tokenize_full( word, sentence):\n",
    "\n",
    "    bestsense = 0\n",
    "    maxoverlap = 0\n",
    "    \n",
    "    for i, synset in enumerate(wn.synsets(word)):\n",
    "        definition = tokenize_full(synset.definition())\n",
    "        definition = set(definition)\n",
    "        sentence = set(sentence)\n",
    "        overlap = len(definition & sentence)\n",
    "        if overlap > maxoverlap:\n",
    "            maxoverlap = overlap\n",
    "            bestsense = i\n",
    "    \n",
    "    return bestsense"
   ]
  },
  {
   "cell_type": "code",
   "execution_count": 657,
   "metadata": {},
   "outputs": [],
   "source": [
    "i = 0\n",
    "definitions = []\n",
    "for line in sample_tok_full:\n",
    "    line = get_words_in_context('break', line)\n",
    "    i = lesk_tokenize_full('break', line)\n",
    "    definitions.append(wn.synsets('break')[i].definition())"
   ]
  },
  {
   "cell_type": "code",
   "execution_count": 658,
   "metadata": {},
   "outputs": [
    {
     "name": "stdout",
     "output_type": "stream",
     "text": [
      "1\n",
      "About 31,000 Tumblekins toys are being recalled by International Playthings as the toy can break into small pieces with sharp edges, posing a laceration hazard\n",
      "---\n",
      "destroy the integrity of; usually by force; cause to separate into pieces or fragments\n",
      "2\n",
      "Black Magic - Halloween's the perfect excuse to break out the black vodka and an easy made-from-scratch soda drink awaits your ghoulish guests\n",
      "---\n",
      "(geology) a crack in the earth's crust resulting from the displacement of one side with respect to the other\n",
      "3\n",
      " This is caused from the honing operation and helps the rings \"seat\" during the break in process\n",
      "---\n",
      "(geology) a crack in the earth's crust resulting from the displacement of one side with respect to the other\n",
      "4\n",
      " They break the rules in order to convince the rule-makers that they need to change the rules, which is itself a kind of state-approved process\n",
      "---\n",
      "(geology) a crack in the earth's crust resulting from the displacement of one side with respect to the other\n",
      "5\n",
      " Assuming the vice president would break any tie in favor of change, it would take 50 of those 52 to do away with the filibuster\n",
      "---\n",
      "any frame in which a bowler fails to make a strike or spare\n",
      "6\n",
      " Trending Now Hillary tried to break the glass ceiling, but the only crack she found was Trumps &ss pressed against it Jeffrey · 6 mins ago She wasn't the first woman to run for president\n",
      "---\n",
      "(geology) a crack in the earth's crust resulting from the displacement of one side with respect to the other\n",
      "7\n",
      "Hernandez led graduate and undergraduate students to Houston during Spring Break 2016 to conduct original reporting based on the Hell and High Water investigation\n",
      "---\n",
      "(geology) a crack in the earth's crust resulting from the displacement of one side with respect to the other\n",
      "8\n",
      "It's also the only country where fans break news\n",
      "---\n",
      "be released or become known; of news\n",
      "9\n",
      " Around 7 months after the break up I met the girl I eventually married, I love her dearly which leads me to my inner turmoil\n",
      "---\n",
      "(geology) a crack in the earth's crust resulting from the displacement of one side with respect to the other\n",
      "10\n",
      "\" The quasi-religious wording gives it echoes of Al Green, and the melody is classic Motown, but the imagery of it is vague enough that it doesn't break the song's enigmatic spell with lyrical or musical cliché\n",
      "---\n",
      "the opening shot that scatters the balls in billiards or pool\n"
     ]
    }
   ],
   "source": [
    "for i in range(10):\n",
    "    print(i+1, sample[i], '---', definitions[i], sep = '\\n')"
   ]
  },
  {
   "cell_type": "markdown",
   "metadata": {},
   "source": [
    "1, 8 подходят, остальное замусорили стоп-словами. Попробуем увеличить контекстное окно, чтобы попадали не только они"
   ]
  },
  {
   "cell_type": "code",
   "execution_count": 659,
   "metadata": {},
   "outputs": [],
   "source": [
    "i = 0\n",
    "definitions = []\n",
    "for line in sample_tok_full:\n",
    "    line = get_words_in_context('break', line, 5)\n",
    "    i = lesk_tokenize_full('break', line)\n",
    "    definitions.append(wn.synsets('break')[i].definition())"
   ]
  },
  {
   "cell_type": "code",
   "execution_count": 660,
   "metadata": {},
   "outputs": [
    {
     "name": "stdout",
     "output_type": "stream",
     "text": [
      "1\n",
      "About 31,000 Tumblekins toys are being recalled by International Playthings as the toy can break into small pieces with sharp edges, posing a laceration hazard\n",
      "---\n",
      "destroy the integrity of; usually by force; cause to separate into pieces or fragments\n",
      "2\n",
      "Black Magic - Halloween's the perfect excuse to break out the black vodka and an easy made-from-scratch soda drink awaits your ghoulish guests\n",
      "---\n",
      "(geology) a crack in the earth's crust resulting from the displacement of one side with respect to the other\n",
      "3\n",
      " This is caused from the honing operation and helps the rings \"seat\" during the break in process\n",
      "---\n",
      "(geology) a crack in the earth's crust resulting from the displacement of one side with respect to the other\n",
      "4\n",
      " They break the rules in order to convince the rule-makers that they need to change the rules, which is itself a kind of state-approved process\n",
      "---\n",
      "(geology) a crack in the earth's crust resulting from the displacement of one side with respect to the other\n",
      "5\n",
      " Assuming the vice president would break any tie in favor of change, it would take 50 of those 52 to do away with the filibuster\n",
      "---\n",
      "(geology) a crack in the earth's crust resulting from the displacement of one side with respect to the other\n",
      "6\n",
      " Trending Now Hillary tried to break the glass ceiling, but the only crack she found was Trumps &ss pressed against it Jeffrey · 6 mins ago She wasn't the first woman to run for president\n",
      "---\n",
      "(geology) a crack in the earth's crust resulting from the displacement of one side with respect to the other\n",
      "7\n",
      "Hernandez led graduate and undergraduate students to Houston during Spring Break 2016 to conduct original reporting based on the Hell and High Water investigation\n",
      "---\n",
      "(geology) a crack in the earth's crust resulting from the displacement of one side with respect to the other\n",
      "8\n",
      "It's also the only country where fans break news\n",
      "---\n",
      "make known to the public information that was previously known only to a few people or that was meant to be kept a secret\n",
      "9\n",
      " Around 7 months after the break up I met the girl I eventually married, I love her dearly which leads me to my inner turmoil\n",
      "---\n",
      "(geology) a crack in the earth's crust resulting from the displacement of one side with respect to the other\n",
      "10\n",
      "\" The quasi-religious wording gives it echoes of Al Green, and the melody is classic Motown, but the imagery of it is vague enough that it doesn't break the song's enigmatic spell with lyrical or musical cliché\n",
      "---\n",
      "(geology) a crack in the earth's crust resulting from the displacement of one side with respect to the other\n"
     ]
    }
   ],
   "source": [
    "for i in range(10):\n",
    "    print(i+1, sample[i], '---', definitions[i], sep = '\\n')"
   ]
  },
  {
   "cell_type": "markdown",
   "metadata": {},
   "source": [
    "Не помогло."
   ]
  },
  {
   "cell_type": "markdown",
   "metadata": {},
   "source": [
    "### Алгоритм Леска с удалением стоп-слов и с использованием определений+примеров"
   ]
  },
  {
   "cell_type": "code",
   "execution_count": 671,
   "metadata": {},
   "outputs": [],
   "source": [
    "def lesk_examples(word, sentence):\n",
    "\n",
    "    bestsense = 0\n",
    "    maxoverlap = 0\n",
    "    example = []\n",
    "    \n",
    "    for i, synset in enumerate(wn.synsets(word)):\n",
    "        definition = tokenize(synset.definition())\n",
    "        exes = [tokenize(line) for line in synset.examples()]\n",
    "        for ex in exes:\n",
    "            example = example\n",
    "        synset_context = example + definition\n",
    "        sentence = set(sentence)\n",
    "        synset_context = set(synset_context)\n",
    "        overlap = len(synset_context & sentence)\n",
    "        if overlap > maxoverlap:\n",
    "            maxoverlap = overlap\n",
    "            bestsense = i\n",
    "    \n",
    "    return bestsense"
   ]
  },
  {
   "cell_type": "code",
   "execution_count": 677,
   "metadata": {},
   "outputs": [],
   "source": [
    "i = 0\n",
    "definitions = []\n",
    "for line in sample_tok:\n",
    "    line = get_words_in_context('break', line, 5)\n",
    "    i = lesk_examples('break', line)\n",
    "    definitions.append(wn.synsets('break')[i].definition())"
   ]
  },
  {
   "cell_type": "code",
   "execution_count": 678,
   "metadata": {},
   "outputs": [
    {
     "name": "stdout",
     "output_type": "stream",
     "text": [
      "1\n",
      "About 31,000 Tumblekins toys are being recalled by International Playthings as the toy can break into small pieces with sharp edges, posing a laceration hazard\n",
      "---\n",
      "become separated into pieces or fragments\n",
      "2\n",
      "Black Magic - Halloween's the perfect excuse to break out the black vodka and an easy made-from-scratch soda drink awaits your ghoulish guests\n",
      "---\n",
      "some abrupt occurrence that interrupts an ongoing activity\n",
      "3\n",
      " This is caused from the honing operation and helps the rings \"seat\" during the break in process\n",
      "---\n",
      "some abrupt occurrence that interrupts an ongoing activity\n",
      "4\n",
      " They break the rules in order to convince the rule-makers that they need to change the rules, which is itself a kind of state-approved process\n",
      "---\n",
      "act in disregard of laws, rules, contracts, or promises\n",
      "5\n",
      " Assuming the vice president would break any tie in favor of change, it would take 50 of those 52 to do away with the filibuster\n",
      "---\n",
      "an abrupt change in the tone or register of the voice (as at puberty or due to emotion)\n",
      "6\n",
      " Trending Now Hillary tried to break the glass ceiling, but the only crack she found was Trumps &ss pressed against it Jeffrey · 6 mins ago She wasn't the first woman to run for president\n",
      "---\n",
      "(geology) a crack in the earth's crust resulting from the displacement of one side with respect to the other\n",
      "7\n",
      "Hernandez led graduate and undergraduate students to Houston during Spring Break 2016 to conduct original reporting based on the Hell and High Water investigation\n",
      "---\n",
      "some abrupt occurrence that interrupts an ongoing activity\n",
      "8\n",
      "It's also the only country where fans break news\n",
      "---\n",
      "be released or become known; of news\n",
      "9\n",
      " Around 7 months after the break up I met the girl I eventually married, I love her dearly which leads me to my inner turmoil\n",
      "---\n",
      "some abrupt occurrence that interrupts an ongoing activity\n",
      "10\n",
      "\" The quasi-religious wording gives it echoes of Al Green, and the melody is classic Motown, but the imagery of it is vague enough that it doesn't break the song's enigmatic spell with lyrical or musical cliché\n",
      "---\n",
      "some abrupt occurrence that interrupts an ongoing activity\n"
     ]
    }
   ],
   "source": [
    "for i in range(10):\n",
    "    print(i+1, sample[i], '---', definitions[i], sep = '\\n')"
   ]
  },
  {
   "cell_type": "markdown",
   "metadata": {},
   "source": [
    "Ок: 1, 4, 8.\n",
    "Всё ещё слишком вариативный контекст, примеров недостаточно.\n",
    "Например, для 9 предложения подходит определение  \n",
    "n.synsets('separate.v.08') - -  discontinue an association or relation; go different ways  \n",
    "Посмотрим примеры:\n",
    "'The business partners broke over a tax question',  \n",
    "'The couple separated after 25 years of marriage',  \n",
    "'My friend and I split up'  \n",
    "\n",
    "Даже приведя 'broke' к нормальной форме, потенциально мы получим такие неинформативные пересечения, как 'I', 'up' (если оставим стоп-слова) 'after'. И даже если нам повезёт с 'up', всё равно останутся несколько вариантов значения выражения 'break up'"
   ]
  },
  {
   "cell_type": "markdown",
   "metadata": {},
   "source": [
    "### Разделим примеры по частям речи"
   ]
  },
  {
   "cell_type": "code",
   "execution_count": 692,
   "metadata": {},
   "outputs": [
    {
     "name": "stderr",
     "output_type": "stream",
     "text": [
      "[nltk_data] Downloading package averaged_perceptron_tagger to\n",
      "[nltk_data]     /home/lisa/nltk_data...\n",
      "[nltk_data]   Package averaged_perceptron_tagger is already up-to-\n",
      "[nltk_data]       date!\n"
     ]
    }
   ],
   "source": [
    "import nltk\n",
    "nltk.download('averaged_perceptron_tagger')\n",
    "from nltk import pos_tag"
   ]
  },
  {
   "cell_type": "code",
   "execution_count": 701,
   "metadata": {},
   "outputs": [],
   "source": [
    "sample_pos = [pos_tag(word_tokenize(line)) for line in sample]"
   ]
  },
  {
   "cell_type": "code",
   "execution_count": 702,
   "metadata": {},
   "outputs": [],
   "source": [
    "sample_verb = []\n",
    "sample_noun = []\n",
    "sample_other = []\n",
    "for i in range(len(sample_pos)):\n",
    "    for j in sample_pos[i]:\n",
    "        if j[0].lower() == 'break':\n",
    "            if j[1].startswith('V'):\n",
    "                sample_verb.append(sample[i])\n",
    "            elif j[1].startswith('N'):\n",
    "                sample_noun.append(sample[i])\n",
    "            else:\n",
    "                sample_other.append(sample[i])"
   ]
  },
  {
   "cell_type": "code",
   "execution_count": 703,
   "metadata": {},
   "outputs": [
    {
     "name": "stdout",
     "output_type": "stream",
     "text": [
      "10\n"
     ]
    }
   ],
   "source": [
    "print(len(sample_noun)+len(sample_verb))"
   ]
  },
  {
   "cell_type": "code",
   "execution_count": 708,
   "metadata": {},
   "outputs": [],
   "source": [
    "sample_tok_noun = [tokenize(line) for line in sample_noun]"
   ]
  },
  {
   "cell_type": "code",
   "execution_count": 709,
   "metadata": {},
   "outputs": [],
   "source": [
    "sample_tok_verb = [tokenize(line) for line in sample_verb]"
   ]
  },
  {
   "cell_type": "code",
   "execution_count": 706,
   "metadata": {},
   "outputs": [],
   "source": [
    "def lesk_examples_pos(word, pos, sentence):\n",
    "\n",
    "    bestsense = 0\n",
    "    maxoverlap = 0\n",
    "    example = []\n",
    "    \n",
    "    for i, synset in enumerate(wn.synsets(word, pos)):\n",
    "        definition = tokenize(synset.definition())\n",
    "        exes = [tokenize(line) for line in synset.examples()]\n",
    "        for ex in exes:\n",
    "            example = example\n",
    "        synset_context = example + definition\n",
    "        sentence = set(sentence)\n",
    "        synset_context = set(synset_context)\n",
    "        overlap = len(synset_context & sentence)\n",
    "        if overlap > maxoverlap:\n",
    "            maxoverlap = overlap\n",
    "            bestsense = i\n",
    "    \n",
    "    return bestsense"
   ]
  },
  {
   "cell_type": "code",
   "execution_count": 710,
   "metadata": {},
   "outputs": [],
   "source": [
    "i = 0\n",
    "definitions_noun = []\n",
    "for line in sample_tok_noun:\n",
    "    line = get_words_in_context('break', line, 5)\n",
    "    i = lesk_examples_pos('break','n', line)\n",
    "    definitions_noun.append(wn.synsets('break','n')[i].definition())"
   ]
  },
  {
   "cell_type": "code",
   "execution_count": 715,
   "metadata": {},
   "outputs": [
    {
     "name": "stdout",
     "output_type": "stream",
     "text": [
      "1\n",
      "['caused', 'honing', 'operation', 'helps', 'rings', 'seat', 'break', 'process']\n",
      "---\n",
      "some abrupt occurrence that interrupts an ongoing activity\n",
      "2\n",
      "['hernandez', 'led', 'graduate', 'undergraduate', 'students', 'houston', 'spring', 'break', '2016', 'conduct', 'original', 'reporting', 'based', 'hell', 'high', 'water', 'investigation']\n",
      "---\n",
      "some abrupt occurrence that interrupts an ongoing activity\n",
      "3\n",
      "['around', '7', 'months', 'break', 'met', 'girl', 'eventually', 'married', 'love', 'dearly', 'leads', 'inner', 'turmoil']\n",
      "---\n",
      "some abrupt occurrence that interrupts an ongoing activity\n"
     ]
    }
   ],
   "source": [
    "for i in range(len(sample_tok_noun)):\n",
    "    print(i+1, sample_tok_noun[i], '---', definitions_noun[i], sep = '\\n')"
   ]
  },
  {
   "cell_type": "markdown",
   "metadata": {},
   "source": [
    "Для существительных улучшений нет"
   ]
  },
  {
   "cell_type": "code",
   "execution_count": 714,
   "metadata": {},
   "outputs": [],
   "source": [
    "i = 0\n",
    "definitions_verb = []\n",
    "for line in sample_tok_verb:\n",
    "    line = get_words_in_context('break', line, 5)\n",
    "    i = lesk_examples_pos('break','v', line)\n",
    "    definitions_verb.append(wn.synsets('break','v')[i].definition())"
   ]
  },
  {
   "cell_type": "code",
   "execution_count": 716,
   "metadata": {},
   "outputs": [
    {
     "name": "stdout",
     "output_type": "stream",
     "text": [
      "1\n",
      "['31,000', 'tumblekins', 'toys', 'recalled', 'international', 'playthings', 'toy', 'break', 'small', 'pieces', 'sharp', 'edges', 'posing', 'laceration', 'hazard']\n",
      "---\n",
      "become separated into pieces or fragments\n",
      "2\n",
      "['black', 'magic', \"halloween's\", 'perfect', 'excuse', 'break', 'black', 'vodka', 'easy', 'made-from-scratch', 'soda', 'drink', 'awaits', 'ghoulish', 'guests']\n",
      "---\n",
      "terminate\n",
      "3\n",
      "['break', 'rules', 'order', 'convince', 'rule-makers', 'need', 'change', 'rules', 'kind', 'state-approved', 'process']\n",
      "---\n",
      "act in disregard of laws, rules, contracts, or promises\n",
      "4\n",
      "['assuming', 'vice', 'president', 'would', 'break', 'tie', 'favor', 'change', 'would', 'take', '50', '52', 'away', 'filibuster']\n",
      "---\n",
      "happen or take place\n",
      "5\n",
      "['trending', 'hillary', 'tried', 'break', 'glass', 'ceiling', 'crack', 'found', 'trumps', 'ss', 'pressed', 'jeffrey', '·', '6', 'mins', 'ago', 'first', 'woman', 'run', 'president']\n",
      "---\n",
      "become fractured; break or crack on the surface only\n",
      "6\n",
      "['also', 'country', 'fans', 'break', 'news']\n",
      "---\n",
      "be released or become known; of news\n",
      "7\n",
      "['quasi-religious', 'wording', 'gives', 'echoes', 'al', 'green', 'melody', 'classic', 'motown', 'imagery', 'vague', 'enough', 'break', \"song's\", 'enigmatic', 'spell', 'lyrical', 'musical', 'cliché']\n",
      "---\n",
      "terminate\n"
     ]
    }
   ],
   "source": [
    "for i in range(len(sample_tok_verb)):\n",
    "    print(i+1, sample_tok_verb[i], '---', definitions_verb[i], sep = '\\n')"
   ]
  },
  {
   "cell_type": "markdown",
   "metadata": {},
   "source": [
    "Чуть лучше стало для примера 5 (6 в исходном датасете)"
   ]
  },
  {
   "cell_type": "code",
   "execution_count": null,
   "metadata": {},
   "outputs": [],
   "source": []
  },
  {
   "cell_type": "markdown",
   "metadata": {},
   "source": [
    "Вспомогательные ячейки"
   ]
  },
  {
   "cell_type": "code",
   "execution_count": 718,
   "metadata": {},
   "outputs": [
    {
     "name": "stdout",
     "output_type": "stream",
     "text": [
      "Synset('interruption.n.02')  -  some abrupt occurrence that interrupts an ongoing activity\n",
      "Synset('break.n.02')  -  an unexpected piece of good luck\n",
      "Synset('fault.n.04')  -  (geology) a crack in the earth's crust resulting from the displacement of one side with respect to the other\n",
      "Synset('rupture.n.02')  -  a personal or social separation (as between opposing factions)\n",
      "Synset('respite.n.02')  -  a pause from doing something (as work)\n",
      "Synset('breakage.n.03')  -  the act of breaking something\n",
      "Synset('pause.n.01')  -  a time interval during which there is a temporary cessation of something\n",
      "Synset('fracture.n.01')  -  breaking of hard tissue such as bone\n",
      "Synset('break.n.09')  -  the occurrence of breaking\n",
      "Synset('break.n.10')  -  an abrupt change in the tone or register of the voice (as at puberty or due to emotion)\n",
      "Synset('break.n.11')  -  the opening shot that scatters the balls in billiards or pool\n",
      "Synset('break.n.12')  -  (tennis) a score consisting of winning a game when your opponent was serving\n",
      "Synset('break.n.13')  -  an act of delaying or interrupting the continuity\n",
      "Synset('break.n.14')  -  a sudden dash\n",
      "Synset('open_frame.n.01')  -  any frame in which a bowler fails to make a strike or spare\n",
      "Synset('break.n.16')  -  an escape from jail\n",
      "Synset('interrupt.v.04')  -  terminate\n",
      "Synset('break.v.02')  -  become separated into pieces or fragments\n",
      "Synset('break.v.03')  -  render inoperable or ineffective\n",
      "Synset('break.v.04')  -  ruin completely\n",
      "Synset('break.v.05')  -  destroy the integrity of; usually by force; cause to separate into pieces or fragments\n",
      "Synset('transgress.v.01')  -  act in disregard of laws, rules, contracts, or promises\n",
      "Synset('break.v.07')  -  move away or escape suddenly\n",
      "Synset('break.v.08')  -  scatter or part\n",
      "Synset('break.v.09')  -  force out or release suddenly and often violently something pent up\n",
      "Synset('break.v.10')  -  prevent completion\n",
      "Synset('break_in.v.01')  -  enter someone's (virtual or real) property in an unauthorized manner, usually with the intent to steal or commit a violent act\n",
      "Synset('break_in.v.06')  -  make submissive, obedient, or useful\n",
      "Synset('violate.v.01')  -  fail to agree with; be in violation of; as of rules or patterns\n",
      "Synset('better.v.01')  -  surpass in excellence\n",
      "Synset('unwrap.v.02')  -  make known to the public information that was previously known only to a few people or that was meant to be kept a secret\n",
      "Synset('break.v.16')  -  come into being\n",
      "Synset('fail.v.04')  -  stop operating or functioning\n",
      "Synset('break.v.18')  -  interrupt a continued activity\n",
      "Synset('break.v.19')  -  make a rupture in the ranks of the enemy or one's own by quitting or fleeing\n",
      "Synset('break.v.20')  -  curl over and fall apart in surf or foam, of waves\n",
      "Synset('dampen.v.07')  -  lessen in force or effect\n",
      "Synset('break.v.22')  -  be broken in\n",
      "Synset('break.v.23')  -  come to an end\n",
      "Synset('break.v.24')  -  vary or interrupt a uniformity or continuity\n",
      "Synset('break.v.25')  -  cause to give up a habit\n",
      "Synset('break.v.26')  -  give up\n",
      "Synset('break.v.27')  -  come forth or begin from a state of latency\n",
      "Synset('break.v.28')  -  happen or take place\n",
      "Synset('break.v.29')  -  cause the failure or ruin of\n",
      "Synset('break.v.30')  -  invalidate by judicial action\n",
      "Synset('separate.v.08')  -  discontinue an association or relation; go different ways\n",
      "Synset('demote.v.01')  -  assign to a lower position; reduce in rank\n",
      "Synset('bankrupt.v.01')  -  reduce to bankruptcy\n",
      "Synset('break.v.34')  -  change directions suddenly\n",
      "Synset('break.v.35')  -  emerge from the surface of a body of water\n",
      "Synset('collapse.v.01')  -  break down, literally or metaphorically\n",
      "Synset('break_dance.v.01')  -  do a break dance\n",
      "Synset('break.v.38')  -  exchange for smaller units of money\n",
      "Synset('break.v.39')  -  destroy the completeness of a set of related items\n",
      "Synset('break.v.40')  -  make the opening shot that scatters the balls\n",
      "Synset('break.v.41')  -  separate from a clinch, in boxing\n",
      "Synset('break.v.42')  -  go to pieces\n",
      "Synset('break.v.43')  -  break a piece from a whole\n",
      "Synset('break.v.44')  -  become punctured or penetrated\n",
      "Synset('break.v.45')  -  pierce or penetrate\n",
      "Synset('break.v.46')  -  be released or become known; of news\n",
      "Synset('pause.v.02')  -  cease an action temporarily\n",
      "Synset('break.v.48')  -  interrupt the flow of current in\n",
      "Synset('break.v.49')  -  undergo breaking\n",
      "Synset('break.v.50')  -  find a flaw in\n",
      "Synset('break.v.51')  -  find the solution or key to\n",
      "Synset('break.v.52')  -  change suddenly from one tone quality or register to another\n",
      "Synset('break.v.53')  -  happen\n",
      "Synset('crack.v.01')  -  become fractured; break or crack on the surface only\n",
      "Synset('break.v.55')  -  crack; of the male voice in puberty\n",
      "Synset('break.v.56')  -  fall sharply\n",
      "Synset('fracture.v.06')  -  fracture a bone of\n",
      "Synset('break.v.58')  -  diminish or discontinue abruptly\n",
      "Synset('break.v.59')  -  weaken or destroy in spirit or body\n"
     ]
    }
   ],
   "source": [
    "for synset in wn.synsets('break'):\n",
    "    print(synset, ' - ',synset.definition())"
   ]
  },
  {
   "cell_type": "code",
   "execution_count": 691,
   "metadata": {},
   "outputs": [
    {
     "data": {
      "text/plain": [
       "['The business partners broke over a tax question',\n",
       " 'The couple separated after 25 years of marriage',\n",
       " 'My friend and I split up']"
      ]
     },
     "execution_count": 691,
     "metadata": {},
     "output_type": "execute_result"
    }
   ],
   "source": [
    "wn.synset('separate.v.08').examples()"
   ]
  }
 ],
 "metadata": {
  "kernelspec": {
   "display_name": "Python 3",
   "language": "python",
   "name": "python3"
  },
  "language_info": {
   "codemirror_mode": {
    "name": "ipython",
    "version": 3
   },
   "file_extension": ".py",
   "mimetype": "text/x-python",
   "name": "python",
   "nbconvert_exporter": "python",
   "pygments_lexer": "ipython3",
   "version": "3.7.2"
  }
 },
 "nbformat": 4,
 "nbformat_minor": 2
}
